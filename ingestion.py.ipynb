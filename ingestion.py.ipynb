{
 "cells": [
  {
   "cell_type": "code",
   "execution_count": 0,
   "metadata": {
    "application/vnd.databricks.v1+cell": {
     "cellMetadata": {
      "byteLimit": 2048000,
      "rowLimit": 10000
     },
     "inputWidgets": {},
     "nuid": "fe179c45-1245-4850-8592-edca273fffca",
     "showTitle": false,
     "tableResultSettingsMap": {},
     "title": ""
    }
   },
   "outputs": [],
   "source": [
    "source_df=spark.readStream.format('cloudFiles').option('cloudFiles.format','csv').option('cloudFiles.inferSchema','true').option('cloudFiles.inferColumnTypes','true').option('cloudFiles.schemaLocation','abfss://catalog@sourcestorageprj.dfs.core.windows.net/sales/schema').load('abfss://catalog@sourcestorageprj.dfs.core.windows.net/sales/raw')"
   ]
  },
  {
   "cell_type": "code",
   "execution_count": 0,
   "metadata": {
    "application/vnd.databricks.v1+cell": {
     "cellMetadata": {
      "byteLimit": 2048000,
      "rowLimit": 10000
     },
     "inputWidgets": {},
     "nuid": "32125a40-ebb8-41ea-acf5-0ca195338606",
     "showTitle": false,
     "tableResultSettingsMap": {},
     "title": ""
    }
   },
   "outputs": [
    {
     "output_type": "execute_result",
     "data": {
      "text/plain": [
       "<pyspark.sql.connect.streaming.query.StreamingQuery at 0x7f5ad016f4d0>"
      ]
     },
     "execution_count": 3,
     "metadata": {},
     "output_type": "execute_result"
    }
   ],
   "source": [
    "(source_df.writeStream.format('delta').option('checkpointLocation','abfss://catalog@sourcestorageprj.dfs.core.windows.net/sales/checkPoint').\n",
    "outputMode('append').option('mergeSchema','true').trigger(availableNow=True).start('abfss://catalog@sourcestorageprj.dfs.core.windows.net/sales/bronze/data'))"
   ]
  }
 ],
 "metadata": {
  "application/vnd.databricks.v1+notebook": {
   "computePreferences": null,
   "dashboards": [],
   "environmentMetadata": {
    "base_environment": "",
    "environment_version": "4"
   },
   "inputWidgetPreferences": null,
   "language": "python",
   "notebookMetadata": {
    "pythonIndentUnit": 4
   },
   "notebookName": "ingestion.py",
   "widgets": {}
  },
  "language_info": {
   "name": "python"
  }
 },
 "nbformat": 4,
 "nbformat_minor": 0
}